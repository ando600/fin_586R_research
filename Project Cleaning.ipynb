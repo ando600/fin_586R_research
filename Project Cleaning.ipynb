{
 "cells": [
  {
   "cell_type": "markdown",
   "metadata": {},
   "source": [
    "Cleaning code for \"Liquidity Risk and Expected Stock Returns\" (Pastor Stambaugh 2003)"
   ]
  },
  {
   "cell_type": "markdown",
   "metadata": {},
   "source": [
    "Note: I'm not exactly sure of the exact variable names, but the other parts of the code should be right."
   ]
  },
  {
   "cell_type": "code",
   "execution_count": null,
   "metadata": {},
   "outputs": [],
   "source": [
    "## Stocks with share prices less than $5 and greater than $1,000 at the end of the previous month are excluded\n",
    "df=df.query(\"prclag>=5 and prclag<=1000\").reset_index(drop=True)\n",
    "## volume is measured in millions of dollars. (I think we already have this)"
   ]
  },
  {
   "cell_type": "markdown",
   "metadata": {},
   "source": [
    "A stock’s liquidity is computed in a given month only if there are more than 15 observations with which\n",
    "to estimate the regression (1), and we exclude a stock for the first and last partial month that it appears on the CRSP tape."
   ]
  },
  {
   "cell_type": "code",
   "execution_count": null,
   "metadata": {},
   "outputs": [],
   "source": [
    "## In particular, between January 1966 and December 1999\n",
    "## I'm creating a sample so we can do these regression on the later sample\n",
    "df_post=df.query(\"mdt > 12/31/1999\").reset_index(drop=True)\n",
    "df=df.query(\"mdt >= 01/01/1966 and mdt <= 12/31/1999\").reset_index(drop=True)"
   ]
  },
  {
   "cell_type": "code",
   "execution_count": null,
   "metadata": {},
   "outputs": [],
   "source": [
    "## Pg 12 in pdf (pg 651 in journal) has interesting marketwide liquidity measure that we could test into the future, and see\n",
    "## how well the measure follows known past macroeconomic conditions. Their figure is figure 1 in the paper\n",
    "## It is just the simple average of all stocks liquidity in a given month. \n",
    "df['mkt_liquidity']=df.groupby('mdt')['liquidity'].mean()\n",
    "\n",
    "## Plot this?\n"
   ]
  }
 ],
 "metadata": {
  "kernelspec": {
   "display_name": "Python 3",
   "language": "python",
   "name": "python3"
  },
  "language_info": {
   "codemirror_mode": {
    "name": "ipython",
    "version": 3
   },
   "file_extension": ".py",
   "mimetype": "text/x-python",
   "name": "python",
   "nbconvert_exporter": "python",
   "pygments_lexer": "ipython3",
   "version": "3.8.3"
  }
 },
 "nbformat": 4,
 "nbformat_minor": 4
}
